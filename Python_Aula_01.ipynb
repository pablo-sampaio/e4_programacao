{
  "nbformat": 4,
  "nbformat_minor": 0,
  "metadata": {
    "colab": {
      "name": "Python - Aula 01.ipynb",
      "provenance": [],
      "authorship_tag": "ABX9TyMb70wGaejxrDDwwe2UTS0Y",
      "include_colab_link": true
    },
    "kernelspec": {
      "name": "python3",
      "display_name": "Python 3"
    },
    "language_info": {
      "name": "python"
    }
  },
  "cells": [
    {
      "cell_type": "markdown",
      "metadata": {
        "id": "view-in-github",
        "colab_type": "text"
      },
      "source": [
        "<a href=\"https://colab.research.google.com/github/pablo-sampaio/e4_programacao/blob/main/Python_Aula_01.ipynb\" target=\"_parent\"><img src=\"https://colab.research.google.com/assets/colab-badge.svg\" alt=\"Open In Colab\"/></a>"
      ]
    },
    {
      "cell_type": "markdown",
      "source": [
        "# Aula 1 - Introdução a Notebooks"
      ],
      "metadata": {
        "id": "cKMFK1gKp8m0"
      }
    },
    {
      "cell_type": "markdown",
      "source": [
        "## Parte 1: Vou **falar** sobre células de texto e de código\n",
        "\n",
        "Este é um exemplo de célula de texto.\n",
        "\n",
        "Abaixo, vemos um exemplo de célula de código."
      ],
      "metadata": {
        "id": "bDxPN5ECtbVZ"
      }
    },
    {
      "cell_type": "code",
      "execution_count": 8,
      "metadata": {
        "colab": {
          "base_uri": "https://localhost:8080/",
          "height": 281
        },
        "id": "npq7CJ1Qp7nF",
        "outputId": "bf5caf3b-e65e-4107-d3fb-24f8ed8336bb"
      },
      "outputs": [
        {
          "output_type": "display_data",
          "data": {
            "text/plain": [
              "<Figure size 432x288 with 1 Axes>"
            ],
            "image/png": "[encoded data removed]"
          },
          "metadata": {
            "needs_background": "light"
          }
        }
      ],
      "source": [
        "import numpy as np\n",
        "from matplotlib import pyplot as plt\n",
        "\n",
        "ys = 200 + np.random.randn(100)\n",
        "x = list(range(len(ys)))\n",
        "\n",
        "plt.plot(x, ys, '-')\n",
        "plt.fill_between(x, ys, 195, where=(ys > 195), facecolor='g', alpha=0.6)\n",
        "\n",
        "plt.title(\"Visualização de Exemplo\")\n",
        "plt.show()"
      ]
    },
    {
      "cell_type": "code",
      "source": [
        "print(10)\n",
        "print(20)\n",
        "print(30)\n",
        "print(40)\n",
        "50"
      ],
      "metadata": {
        "id": "FRS-TkyfqZaU",
        "colab": {
          "base_uri": "https://localhost:8080/"
        },
        "outputId": "32ab6035-275f-4952-f01b-3159f4b46857"
      },
      "execution_count": 12,
      "outputs": [
        {
          "output_type": "stream",
          "name": "stdout",
          "text": [
            "10\n",
            "20\n",
            "30\n",
            "40\n"
          ]
        },
        {
          "output_type": "execute_result",
          "data": {
            "text/plain": [
              "50"
            ]
          },
          "metadata": {},
          "execution_count": 12
        }
      ]
    },
    {
      "cell_type": "markdown",
      "source": [
        "Parte 2: Usando como uma Calculadora\n",
        "\n",
        "Imagine que você está em um restaurante com um grupo de amigos e precisa calcular quanto você tem que pagar.\n",
        "\n",
        "Suponha que você consumiu sozinho itens com esses valores:\n",
        "- R\\$ 12,30\n",
        "- R\\$ 5,00\n",
        "- R\\$ 55,10\n",
        "\n",
        "E você dividiu um prato com três amigos de valor *R$ 105,72*.\n",
        "\n",
        "Lembre-se de acrescentar os 10%."
      ],
      "metadata": {
        "id": "f3l43h0e0XoL"
      }
    },
    {
      "cell_type": "code",
      "source": [
        "consumo_individual = 12.37 + 5 + 15.28"
      ],
      "metadata": {
        "id": "BL-d6EgH0U3e"
      },
      "execution_count": 29,
      "outputs": []
    },
    {
      "cell_type": "code",
      "source": [
        "prato_dividido = 105.72 / 3"
      ],
      "metadata": {
        "id": "29rA73JC1lAB"
      },
      "execution_count": 30,
      "outputs": []
    },
    {
      "cell_type": "code",
      "source": [
        "print( (consumo_individual + prato_dividido) * 1.10 )"
      ],
      "metadata": {
        "colab": {
          "base_uri": "https://localhost:8080/"
        },
        "id": "0O57XzWR16Hc",
        "outputId": "3b19f385-6346-4710-9da4-17af476e5183"
      },
      "execution_count": 32,
      "outputs": [
        {
          "output_type": "stream",
          "name": "stdout",
          "text": [
            "74.679\n"
          ]
        }
      ]
    },
    {
      "cell_type": "code",
      "source": [
        ""
      ],
      "metadata": {
        "id": "zCscXszM2agS"
      },
      "execution_count": null,
      "outputs": []
    }
  ]
}